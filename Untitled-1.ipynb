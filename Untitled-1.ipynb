{
 "cells": [
  {
   "cell_type": "code",
   "execution_count": 3,
   "metadata": {},
   "outputs": [
    {
     "ename": "AttributeError",
     "evalue": "'Counter' object has no attribute 'reset'",
     "output_type": "error",
     "traceback": [
      "\u001b[1;31m---------------------------------------------------------------------------\u001b[0m",
      "\u001b[1;31mAttributeError\u001b[0m                            Traceback (most recent call last)",
      "Cell \u001b[1;32mIn[3], line 3\u001b[0m\n\u001b[0;32m      1\u001b[0m \u001b[38;5;28;01mfrom\u001b[39;00m \u001b[38;5;21;01mcollections\u001b[39;00m \u001b[38;5;28;01mimport\u001b[39;00m Counter\n\u001b[0;32m      2\u001b[0m tally \u001b[38;5;241m=\u001b[39m Counter()\n\u001b[1;32m----> 3\u001b[0m \u001b[43mtally\u001b[49m\u001b[38;5;241;43m.\u001b[39;49m\u001b[43mreset\u001b[49m()\n\u001b[0;32m      4\u001b[0m tally\u001b[38;5;241m.\u001b[39mclick()\n\u001b[0;32m      5\u001b[0m tally\u001b[38;5;241m.\u001b[39mclick()\n",
      "\u001b[1;31mAttributeError\u001b[0m: 'Counter' object has no attribute 'reset'"
     ]
    }
   ],
   "source": [
    "from collections import Counter\n",
    "tally = Counter()\n",
    "tally.reset()\n",
    "tally.click()\n",
    "tally.click()\n",
    "result. tally.getValue()\n"
   ]
  },
  {
   "cell_type": "code",
   "execution_count": 1,
   "metadata": {},
   "outputs": [
    {
     "name": "stdout",
     "output_type": "stream",
     "text": [
      "2\n"
     ]
    }
   ],
   "source": [
    "class Counter:\n",
    "    def __init__(self):\n",
    "        self.count = 0\n",
    "\n",
    "    def reset(self):\n",
    "        self.count = 0\n",
    "\n",
    "    def click(self):\n",
    "        self.count += 1\n",
    "\n",
    "    def getValue(self):\n",
    "        return self.count\n",
    "\n",
    "# Example usage\n",
    "tally = Counter()  # Create a new counter object\n",
    "tally.reset()      # Reset the counter to 0\n",
    "tally.click()      # Increment the counter by 1 (count is now 1)\n",
    "tally.click()      # Increment the counter again (count is now 2)\n",
    "result = tally.getValue()  # Get the current value (should be 2)\n",
    "print(result)  # Output: 2\n"
   ]
  }
 ],
 "metadata": {
  "kernelspec": {
   "display_name": "Python 3",
   "language": "python",
   "name": "python3"
  },
  "language_info": {
   "codemirror_mode": {
    "name": "ipython",
    "version": 3
   },
   "file_extension": ".py",
   "mimetype": "text/x-python",
   "name": "python",
   "nbconvert_exporter": "python",
   "pygments_lexer": "ipython3",
   "version": "3.8.0"
  }
 },
 "nbformat": 4,
 "nbformat_minor": 2
}
